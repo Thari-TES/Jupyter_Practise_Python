{
 "cells": [
  {
   "cell_type": "code",
   "execution_count": 11,
   "metadata": {},
   "outputs": [],
   "source": [
    "class Car:\n",
    "    base_price=10000\n",
    "    def __init__(self,windows,door,power):\n",
    "        self.window=windows\n",
    "        self.doors=door\n",
    "        self.horsepower=power\n",
    "    \n",
    "    def fbase_price(self):\n",
    "        print(\"The base price is {}\".format(self.base_price))\n",
    "    \n",
    "    @classmethod #Decoration.. Decoration eken wenne below function eka adala class/function ekt call wena eka as a parmeter\n",
    "    def change_baseprice(cls,inflation):#Like self.. reference the same class car\n",
    "        cls.base_price=cls.base_price+cls.base_price*inflation"
   ]
  },
  {
   "cell_type": "code",
   "execution_count": 12,
   "metadata": {},
   "outputs": [
    {
     "data": {
      "text/plain": [
       "10000"
      ]
     },
     "execution_count": 12,
     "metadata": {},
     "output_type": "execute_result"
    }
   ],
   "source": [
    "Car.base_price"
   ]
  },
  {
   "cell_type": "code",
   "execution_count": 13,
   "metadata": {},
   "outputs": [],
   "source": [
    "Car.change_baseprice(0.10)"
   ]
  },
  {
   "cell_type": "code",
   "execution_count": 14,
   "metadata": {},
   "outputs": [
    {
     "data": {
      "text/plain": [
       "11000.0"
      ]
     },
     "execution_count": 14,
     "metadata": {},
     "output_type": "execute_result"
    }
   ],
   "source": [
    "Car.base_price\n"
   ]
  }
 ],
 "metadata": {
  "kernelspec": {
   "display_name": "Python 3",
   "language": "python",
   "name": "python3"
  },
  "language_info": {
   "codemirror_mode": {
    "name": "ipython",
    "version": 3
   },
   "file_extension": ".py",
   "mimetype": "text/x-python",
   "name": "python",
   "nbconvert_exporter": "python",
   "pygments_lexer": "ipython3",
   "version": "3.8.5"
  }
 },
 "nbformat": 4,
 "nbformat_minor": 4
}
