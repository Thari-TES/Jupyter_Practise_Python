{
 "cells": [
  {
   "cell_type": "markdown",
   "metadata": {},
   "source": [
    "# Inside the try block - where the exception can be occurs"
   ]
  },
  {
   "cell_type": "code",
   "execution_count": 5,
   "metadata": {},
   "outputs": [
    {
     "name": "stdout",
     "output_type": "stream",
     "text": [
      "Some Error has Occured\n"
     ]
    }
   ],
   "source": [
    "try:\n",
    "    ##Code block where exception can occurs\n",
    "    a=b\n",
    "except :\n",
    "    print(\"Some Error has Occured\")"
   ]
  },
  {
   "cell_type": "code",
   "execution_count": 6,
   "metadata": {},
   "outputs": [
    {
     "ename": "NameError",
     "evalue": "name 'b' is not defined",
     "output_type": "error",
     "traceback": [
      "\u001b[1;31m---------------------------------------------------------------------------\u001b[0m",
      "\u001b[1;31mNameError\u001b[0m                                 Traceback (most recent call last)",
      "\u001b[1;32m<ipython-input-6-488068fe1e94>\u001b[0m in \u001b[0;36m<module>\u001b[1;34m\u001b[0m\n\u001b[1;32m----> 1\u001b[1;33m \u001b[0ma\u001b[0m\u001b[1;33m=\u001b[0m\u001b[0mb\u001b[0m\u001b[1;33m\u001b[0m\u001b[1;33m\u001b[0m\u001b[0m\n\u001b[0m",
      "\u001b[1;31mNameError\u001b[0m: name 'b' is not defined"
     ]
    }
   ],
   "source": [
    "a=b"
   ]
  },
  {
   "cell_type": "code",
   "execution_count": 10,
   "metadata": {},
   "outputs": [
    {
     "name": "stdout",
     "output_type": "stream",
     "text": [
      "name 'b' is not defined\n"
     ]
    }
   ],
   "source": [
    "try:\n",
    "    ##Code block where exception can occurs\n",
    "    a=b\n",
    "except Exception as ex:\n",
    "    print(ex)  #Name of the error will display here"
   ]
  },
  {
   "cell_type": "code",
   "execution_count": 11,
   "metadata": {},
   "outputs": [
    {
     "name": "stdout",
     "output_type": "stream",
     "text": [
      "User Didnt define the variable\n"
     ]
    }
   ],
   "source": [
    "try:\n",
    "    ##Code block where exception can occurs\n",
    "    a=b\n",
    "except NameError as ex1:\n",
    "    print(\"User Didnt define the variable\") ##consider the error name. when user did something similar to that error. that message will pop. NameError derived from Exception class\n",
    "except Exception as ex:\n",
    "    print(ex)  #Name of the error will display here"
   ]
  },
  {
   "cell_type": "markdown",
   "metadata": {},
   "source": [
    "# Exception class eke hama error ekakm tynwa. eka call krnkot enne error ekat adalwa ena message eka. Eth api me wage error ekak wenna pluwn kyla identify kragen a error eka above case vdht krot apit pluwn a error eka occur wenkot speciall message ekak create krnn usert therena vidihata"
   ]
  },
  {
   "cell_type": "code",
   "execution_count": 12,
   "metadata": {},
   "outputs": [
    {
     "name": "stdout",
     "output_type": "stream",
     "text": [
      "can only concatenate str (not \"int\") to str\n"
     ]
    }
   ],
   "source": [
    "try:\n",
    "    ##Code block where exception can occurs\n",
    "    a=\"Abc\"\n",
    "    b=5\n",
    "    c=a+b\n",
    "except NameError as ex1:\n",
    "    print(\"User Didnt define the variable\") ##consider the error name. when user did something similar to that error. that message will pop. NameError derived from Exception class\n",
    "except Exception as ex:\n",
    "    print(ex)  #Name of the error will display here"
   ]
  },
  {
   "cell_type": "code",
   "execution_count": 14,
   "metadata": {},
   "outputs": [
    {
     "name": "stdout",
     "output_type": "stream",
     "text": [
      "You cant add int and string together\n"
     ]
    }
   ],
   "source": [
    "try:\n",
    "    ##Code block where exception can occurs\n",
    "    a=\"Abc\"\n",
    "    b=5\n",
    "    c=a+b\n",
    "except  TypeError as ex2:\n",
    "    print(\"You cant add int and string together\") ##Identify the error name and initialize it\n",
    "except NameError as ex1:\n",
    "    print(\"User Didnt define the variable\") ##consider the error name. when user did something similar to that error. that message will pop. NameError derived from Exception class\n",
    "except Exception as ex:\n",
    "    print(ex)  #Name of the error will display here\n",
    "\n",
    "else:\n",
    "    print(\"Your code here if it works correctly\")"
   ]
  },
  {
   "cell_type": "markdown",
   "metadata": {},
   "source": [
    "# IF we are not initalized the error name then exception message will occurs\n"
   ]
  },
  {
   "cell_type": "code",
   "execution_count": 17,
   "metadata": {},
   "outputs": [
    {
     "name": "stdout",
     "output_type": "stream",
     "text": [
      "You cant add int and string together\n",
      "The execution is done\n"
     ]
    }
   ],
   "source": [
    "try:\n",
    "    ##Code block where exception can occurs\n",
    "    a=\"Abc\"\n",
    "    b=5\n",
    "    c=a+b\n",
    "except  TypeError as ex2:\n",
    "    print(\"You cant add int and string together\") ##Identify the error name and initialize it\n",
    "except NameError as ex1:\n",
    "    print(\"User Didnt define the variable\") ##consider the error name. when user did something similar to that error. that message will pop. NameError derived from Exception class\n",
    "except Exception as ex:\n",
    "    print(ex)  #Name of the error will display here\n",
    "    \n",
    "finally:\n",
    "    print(\"The execution is done\")"
   ]
  },
  {
   "cell_type": "markdown",
   "metadata": {},
   "source": [
    "# Custom Exception"
   ]
  },
  {
   "cell_type": "code",
   "execution_count": 1,
   "metadata": {},
   "outputs": [],
   "source": [
    "class Error(Exception):\n",
    "    pass\n",
    "\n",
    "class dobException(Error):\n",
    "    pass"
   ]
  },
  {
   "cell_type": "code",
   "execution_count": 6,
   "metadata": {},
   "outputs": [
    {
     "name": "stdout",
     "output_type": "stream",
     "text": [
      "Enter the birth yearasdasd\n",
      "invalid literal for int() with base 10: 'asdasd'\n"
     ]
    }
   ],
   "source": [
    "\n",
    "try:\n",
    "    year=int(input(\"Enter the birth year\"))\n",
    "    age=2022-year\n",
    "\n",
    "    if age<=30 & age>20:\n",
    "        pass\n",
    "    else:\n",
    "        raise dobException\n",
    "except dobException:\n",
    "    print(\"Year is not valid\")\n",
    "except Exception as ex:\n",
    "    print(ex)"
   ]
  },
  {
   "cell_type": "code",
   "execution_count": null,
   "metadata": {},
   "outputs": [],
   "source": []
  }
 ],
 "metadata": {
  "kernelspec": {
   "display_name": "Python 3",
   "language": "python",
   "name": "python3"
  },
  "language_info": {
   "codemirror_mode": {
    "name": "ipython",
    "version": 3
   },
   "file_extension": ".py",
   "mimetype": "text/x-python",
   "name": "python",
   "nbconvert_exporter": "python",
   "pygments_lexer": "ipython3",
   "version": "3.8.5"
  }
 },
 "nbformat": 4,
 "nbformat_minor": 4
}
