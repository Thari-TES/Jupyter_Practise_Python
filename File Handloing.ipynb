{
 "cells": [
  {
   "cell_type": "markdown",
   "metadata": {},
   "source": [
    "# Read File"
   ]
  },
  {
   "cell_type": "code",
   "execution_count": 38,
   "metadata": {},
   "outputs": [],
   "source": [
    "f=open(\"E:\\CODEZ\\Data Science\\pythontest.txt\",\"r\")"
   ]
  },
  {
   "cell_type": "code",
   "execution_count": 40,
   "metadata": {},
   "outputs": [
    {
     "name": "stdout",
     "output_type": "stream",
     "text": [
      "I love Python\n",
      "I love Machine Learning\n",
      "I am the best Data Engineer\n"
     ]
    }
   ],
   "source": [
    "content=f.read()\n",
    "print(content)"
   ]
  },
  {
   "cell_type": "code",
   "execution_count": 46,
   "metadata": {},
   "outputs": [
    {
     "name": "stdout",
     "output_type": "stream",
     "text": [
      "I love Python\n",
      "I love\n"
     ]
    }
   ],
   "source": [
    "f=open(\"E:\\CODEZ\\Data Science\\pythontest.txt\",\"r\")\n",
    "morecontent=f.read(20)\n",
    "print(morecontent)\n"
   ]
  },
  {
   "cell_type": "code",
   "execution_count": 47,
   "metadata": {},
   "outputs": [
    {
     "name": "stdout",
     "output_type": "stream",
     "text": [
      "I love\n"
     ]
    }
   ],
   "source": [
    "f=open(\"E:\\CODEZ\\Data Science\\pythontest.txt\",\"r\")\n",
    "morecontenst=f.read(6)\n",
    "print(morecontenst)"
   ]
  },
  {
   "cell_type": "code",
   "execution_count": 48,
   "metadata": {},
   "outputs": [
    {
     "name": "stdout",
     "output_type": "stream",
     "text": [
      " Python\n",
      "I\n"
     ]
    }
   ],
   "source": [
    "morecontenst=f.read(9)  #next 9 character which are in first 6 characters\n",
    "print(morecontenst)"
   ]
  },
  {
   "cell_type": "code",
   "execution_count": 50,
   "metadata": {},
   "outputs": [
    {
     "name": "stdout",
     "output_type": "stream",
     "text": [
      "I love\n",
      " Python\n",
      "I\n"
     ]
    }
   ],
   "source": [
    "try:\n",
    "    fs=open(\"E:\\CODEZ\\Data Science\\pythontest.txt\",\"r\")\n",
    "    \n",
    "    readf=fs.read(6)  ## First 6 characters\n",
    "    print(readf)\n",
    "    \n",
    "    \n",
    "    reads=fs.read(9) ## After first 6, next 9 characters\n",
    "    print(reads)\n",
    "\n",
    "finally:\n",
    "    fs.close()"
   ]
  },
  {
   "cell_type": "code",
   "execution_count": 58,
   "metadata": {},
   "outputs": [
    {
     "name": "stdout",
     "output_type": "stream",
     "text": [
      "I love Pytho\n",
      "n\n",
      "I love M\n"
     ]
    }
   ],
   "source": [
    "with open(\"E:\\CODEZ\\Data Science\\pythontest.txt\",\"r\") as fq:\n",
    "    readff=fq.read(12)  ## First 12 characters\n",
    "    print(readff)\n",
    "    \n",
    "    \n",
    "    readsf=fq.read(10) ## After first 11, next 10 characters\n",
    "    print(readsf)"
   ]
  },
  {
   "cell_type": "code",
   "execution_count": 61,
   "metadata": {},
   "outputs": [],
   "source": [
    "with open(\"E:\\CODEZ\\Data Science\\pythonwrite.txt\",\"w\") as fw:\n",
    "    fw.write(\"I Love Python\\n\")\n",
    "    fw.write(\"Python is awesome as fuck\")\n",
    "    \n",
    "    "
   ]
  },
  {
   "cell_type": "markdown",
   "metadata": {},
   "source": [
    "# Append Mode"
   ]
  },
  {
   "cell_type": "code",
   "execution_count": 62,
   "metadata": {},
   "outputs": [],
   "source": [
    "with open(\"E:\\CODEZ\\Data Science\\pythonwrite.txt\",\"a\") as fws:  \n",
    "    fws.write(\"\\n I love this\")\n",
    "  "
   ]
  },
  {
   "cell_type": "code",
   "execution_count": null,
   "metadata": {},
   "outputs": [],
   "source": []
  }
 ],
 "metadata": {
  "kernelspec": {
   "display_name": "Python 3",
   "language": "python",
   "name": "python3"
  },
  "language_info": {
   "codemirror_mode": {
    "name": "ipython",
    "version": 3
   },
   "file_extension": ".py",
   "mimetype": "text/x-python",
   "name": "python",
   "nbconvert_exporter": "python",
   "pygments_lexer": "ipython3",
   "version": "3.8.5"
  }
 },
 "nbformat": 4,
 "nbformat_minor": 4
}
